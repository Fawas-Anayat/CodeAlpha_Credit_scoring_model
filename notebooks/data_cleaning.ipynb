{
 "cells": [
  {
   "cell_type": "markdown",
   "id": "c2012fc9",
   "metadata": {},
   "source": [
    "# DATA CLEANING"
   ]
  },
  {
   "cell_type": "markdown",
   "id": "fbc57ea4",
   "metadata": {},
   "source": [
    "This is the dedicate file for the data cleaning processes"
   ]
  },
  {
   "cell_type": "markdown",
   "id": "3a083341",
   "metadata": {},
   "source": [
    "### importing libraries and modules"
   ]
  },
  {
   "cell_type": "code",
   "execution_count": 2,
   "id": "ce06fbe6",
   "metadata": {},
   "outputs": [],
   "source": [
    "import pandas as pd"
   ]
  },
  {
   "cell_type": "markdown",
   "id": "65235b89",
   "metadata": {},
   "source": [
    "### Creating the dataframe and perfroming the exploratory data analysis"
   ]
  },
  {
   "cell_type": "code",
   "execution_count": 3,
   "id": "10846c2f",
   "metadata": {},
   "outputs": [],
   "source": [
    "df=pd.read_csv('../data/personal_finance_tracker_dataset.csv')"
   ]
  },
  {
   "cell_type": "code",
   "execution_count": 4,
   "id": "c3f7deac",
   "metadata": {},
   "outputs": [],
   "source": [
    "pd.set_option('display.max_columns',None)"
   ]
  },
  {
   "cell_type": "code",
   "execution_count": 5,
   "id": "51eed30c",
   "metadata": {},
   "outputs": [
    {
     "data": {
      "text/html": [
       "<div>\n",
       "<style scoped>\n",
       "    .dataframe tbody tr th:only-of-type {\n",
       "        vertical-align: middle;\n",
       "    }\n",
       "\n",
       "    .dataframe tbody tr th {\n",
       "        vertical-align: top;\n",
       "    }\n",
       "\n",
       "    .dataframe thead th {\n",
       "        text-align: right;\n",
       "    }\n",
       "</style>\n",
       "<table border=\"1\" class=\"dataframe\">\n",
       "  <thead>\n",
       "    <tr style=\"text-align: right;\">\n",
       "      <th></th>\n",
       "      <th>date</th>\n",
       "      <th>user_id</th>\n",
       "      <th>monthly_income</th>\n",
       "      <th>monthly_expense_total</th>\n",
       "      <th>savings_rate</th>\n",
       "      <th>budget_goal</th>\n",
       "      <th>financial_scenario</th>\n",
       "      <th>credit_score</th>\n",
       "      <th>debt_to_income_ratio</th>\n",
       "      <th>loan_payment</th>\n",
       "      <th>investment_amount</th>\n",
       "      <th>subscription_services</th>\n",
       "      <th>emergency_fund</th>\n",
       "      <th>transaction_count</th>\n",
       "      <th>fraud_flag</th>\n",
       "      <th>discretionary_spending</th>\n",
       "      <th>essential_spending</th>\n",
       "      <th>income_type</th>\n",
       "      <th>rent_or_mortgage</th>\n",
       "      <th>category</th>\n",
       "      <th>cash_flow_status</th>\n",
       "      <th>financial_advice_score</th>\n",
       "      <th>financial_stress_level</th>\n",
       "      <th>actual_savings</th>\n",
       "      <th>savings_goal_met</th>\n",
       "    </tr>\n",
       "  </thead>\n",
       "  <tbody>\n",
       "    <tr>\n",
       "      <th>0</th>\n",
       "      <td>2019-01-01</td>\n",
       "      <td>1584</td>\n",
       "      <td>3119.58</td>\n",
       "      <td>3212.07</td>\n",
       "      <td>0.38</td>\n",
       "      <td>3676.11</td>\n",
       "      <td>inflation</td>\n",
       "      <td>721.0</td>\n",
       "      <td>0.56</td>\n",
       "      <td>125.77</td>\n",
       "      <td>689.22</td>\n",
       "      <td>3</td>\n",
       "      <td>510.58</td>\n",
       "      <td>68</td>\n",
       "      <td>0</td>\n",
       "      <td>857.55</td>\n",
       "      <td>1910.85</td>\n",
       "      <td>Freelance</td>\n",
       "      <td>1501.65</td>\n",
       "      <td>Investments</td>\n",
       "      <td>Positive</td>\n",
       "      <td>8.3</td>\n",
       "      <td>Low</td>\n",
       "      <td>0.00</td>\n",
       "      <td>0</td>\n",
       "    </tr>\n",
       "    <tr>\n",
       "      <th>1</th>\n",
       "      <td>2019-01-31</td>\n",
       "      <td>1045</td>\n",
       "      <td>3262.44</td>\n",
       "      <td>3732.81</td>\n",
       "      <td>0.10</td>\n",
       "      <td>2607.17</td>\n",
       "      <td>inflation</td>\n",
       "      <td>670.0</td>\n",
       "      <td>0.42</td>\n",
       "      <td>454.19</td>\n",
       "      <td>360.34</td>\n",
       "      <td>4</td>\n",
       "      <td>1154.41</td>\n",
       "      <td>41</td>\n",
       "      <td>0</td>\n",
       "      <td>534.51</td>\n",
       "      <td>3165.20</td>\n",
       "      <td>Salary</td>\n",
       "      <td>1603.17</td>\n",
       "      <td>Investments</td>\n",
       "      <td>Positive</td>\n",
       "      <td>22.6</td>\n",
       "      <td>Low</td>\n",
       "      <td>0.00</td>\n",
       "      <td>0</td>\n",
       "    </tr>\n",
       "    <tr>\n",
       "      <th>2</th>\n",
       "      <td>2019-03-02</td>\n",
       "      <td>1756</td>\n",
       "      <td>2931.20</td>\n",
       "      <td>3335.58</td>\n",
       "      <td>0.15</td>\n",
       "      <td>3004.14</td>\n",
       "      <td>inflation</td>\n",
       "      <td>691.0</td>\n",
       "      <td>0.24</td>\n",
       "      <td>971.82</td>\n",
       "      <td>0.00</td>\n",
       "      <td>5</td>\n",
       "      <td>1433.02</td>\n",
       "      <td>90</td>\n",
       "      <td>0</td>\n",
       "      <td>353.67</td>\n",
       "      <td>1504.56</td>\n",
       "      <td>Freelance</td>\n",
       "      <td>1097.82</td>\n",
       "      <td>Healthcare</td>\n",
       "      <td>Positive</td>\n",
       "      <td>58.8</td>\n",
       "      <td>Low</td>\n",
       "      <td>0.00</td>\n",
       "      <td>0</td>\n",
       "    </tr>\n",
       "    <tr>\n",
       "      <th>3</th>\n",
       "      <td>2019-04-01</td>\n",
       "      <td>1724</td>\n",
       "      <td>3506.79</td>\n",
       "      <td>2327.59</td>\n",
       "      <td>0.17</td>\n",
       "      <td>3346.97</td>\n",
       "      <td>normal</td>\n",
       "      <td>717.0</td>\n",
       "      <td>0.16</td>\n",
       "      <td>482.76</td>\n",
       "      <td>182.06</td>\n",
       "      <td>5</td>\n",
       "      <td>227.37</td>\n",
       "      <td>94</td>\n",
       "      <td>0</td>\n",
       "      <td>594.08</td>\n",
       "      <td>1450.72</td>\n",
       "      <td>Freelance</td>\n",
       "      <td>1155.64</td>\n",
       "      <td>Groceries</td>\n",
       "      <td>Positive</td>\n",
       "      <td>74.5</td>\n",
       "      <td>Low</td>\n",
       "      <td>1179.20</td>\n",
       "      <td>0</td>\n",
       "    </tr>\n",
       "    <tr>\n",
       "      <th>4</th>\n",
       "      <td>2019-05-01</td>\n",
       "      <td>1600</td>\n",
       "      <td>4606.87</td>\n",
       "      <td>2182.58</td>\n",
       "      <td>0.34</td>\n",
       "      <td>2670.09</td>\n",
       "      <td>inflation</td>\n",
       "      <td>795.0</td>\n",
       "      <td>0.25</td>\n",
       "      <td>263.74</td>\n",
       "      <td>342.78</td>\n",
       "      <td>9</td>\n",
       "      <td>589.81</td>\n",
       "      <td>73</td>\n",
       "      <td>0</td>\n",
       "      <td>556.86</td>\n",
       "      <td>1000.00</td>\n",
       "      <td>Salary</td>\n",
       "      <td>1170.86</td>\n",
       "      <td>Utilities</td>\n",
       "      <td>Negative</td>\n",
       "      <td>38.7</td>\n",
       "      <td>High</td>\n",
       "      <td>2424.29</td>\n",
       "      <td>0</td>\n",
       "    </tr>\n",
       "    <tr>\n",
       "      <th>5</th>\n",
       "      <td>2019-05-31</td>\n",
       "      <td>1985</td>\n",
       "      <td>4028.39</td>\n",
       "      <td>3876.57</td>\n",
       "      <td>0.26</td>\n",
       "      <td>2079.72</td>\n",
       "      <td>recession</td>\n",
       "      <td>643.0</td>\n",
       "      <td>0.43</td>\n",
       "      <td>323.20</td>\n",
       "      <td>451.11</td>\n",
       "      <td>8</td>\n",
       "      <td>1131.03</td>\n",
       "      <td>56</td>\n",
       "      <td>0</td>\n",
       "      <td>431.04</td>\n",
       "      <td>2330.01</td>\n",
       "      <td>Salary</td>\n",
       "      <td>548.67</td>\n",
       "      <td>Healthcare</td>\n",
       "      <td>Positive</td>\n",
       "      <td>53.7</td>\n",
       "      <td>Medium</td>\n",
       "      <td>151.82</td>\n",
       "      <td>0</td>\n",
       "    </tr>\n",
       "    <tr>\n",
       "      <th>6</th>\n",
       "      <td>2019-06-30</td>\n",
       "      <td>1194</td>\n",
       "      <td>4145.45</td>\n",
       "      <td>3035.61</td>\n",
       "      <td>0.15</td>\n",
       "      <td>2215.80</td>\n",
       "      <td>normal</td>\n",
       "      <td>683.0</td>\n",
       "      <td>0.30</td>\n",
       "      <td>609.88</td>\n",
       "      <td>730.42</td>\n",
       "      <td>8</td>\n",
       "      <td>995.12</td>\n",
       "      <td>69</td>\n",
       "      <td>0</td>\n",
       "      <td>443.50</td>\n",
       "      <td>2860.30</td>\n",
       "      <td>Freelance</td>\n",
       "      <td>637.04</td>\n",
       "      <td>Transportation</td>\n",
       "      <td>Positive</td>\n",
       "      <td>74.7</td>\n",
       "      <td>High</td>\n",
       "      <td>1109.84</td>\n",
       "      <td>0</td>\n",
       "    </tr>\n",
       "    <tr>\n",
       "      <th>7</th>\n",
       "      <td>2019-07-30</td>\n",
       "      <td>1600</td>\n",
       "      <td>3202.37</td>\n",
       "      <td>2689.51</td>\n",
       "      <td>0.25</td>\n",
       "      <td>3650.48</td>\n",
       "      <td>normal</td>\n",
       "      <td>655.0</td>\n",
       "      <td>0.24</td>\n",
       "      <td>524.64</td>\n",
       "      <td>224.15</td>\n",
       "      <td>4</td>\n",
       "      <td>732.71</td>\n",
       "      <td>65</td>\n",
       "      <td>0</td>\n",
       "      <td>602.88</td>\n",
       "      <td>3526.55</td>\n",
       "      <td>Salary</td>\n",
       "      <td>1453.18</td>\n",
       "      <td>Entertainment</td>\n",
       "      <td>Neutral</td>\n",
       "      <td>83.1</td>\n",
       "      <td>Medium</td>\n",
       "      <td>512.86</td>\n",
       "      <td>0</td>\n",
       "    </tr>\n",
       "    <tr>\n",
       "      <th>8</th>\n",
       "      <td>2019-08-29</td>\n",
       "      <td>1835</td>\n",
       "      <td>4765.11</td>\n",
       "      <td>2628.56</td>\n",
       "      <td>0.06</td>\n",
       "      <td>2813.81</td>\n",
       "      <td>normal</td>\n",
       "      <td>715.0</td>\n",
       "      <td>0.52</td>\n",
       "      <td>103.30</td>\n",
       "      <td>0.00</td>\n",
       "      <td>7</td>\n",
       "      <td>1623.05</td>\n",
       "      <td>99</td>\n",
       "      <td>0</td>\n",
       "      <td>733.67</td>\n",
       "      <td>2503.65</td>\n",
       "      <td>Salary</td>\n",
       "      <td>1675.75</td>\n",
       "      <td>Education</td>\n",
       "      <td>Negative</td>\n",
       "      <td>71.6</td>\n",
       "      <td>Low</td>\n",
       "      <td>2136.55</td>\n",
       "      <td>0</td>\n",
       "    </tr>\n",
       "    <tr>\n",
       "      <th>9</th>\n",
       "      <td>2019-09-28</td>\n",
       "      <td>1454</td>\n",
       "      <td>3581.79</td>\n",
       "      <td>3370.80</td>\n",
       "      <td>0.13</td>\n",
       "      <td>2195.92</td>\n",
       "      <td>normal</td>\n",
       "      <td>749.0</td>\n",
       "      <td>0.52</td>\n",
       "      <td>643.48</td>\n",
       "      <td>261.39</td>\n",
       "      <td>9</td>\n",
       "      <td>1057.10</td>\n",
       "      <td>91</td>\n",
       "      <td>0</td>\n",
       "      <td>464.34</td>\n",
       "      <td>1691.26</td>\n",
       "      <td>Salary</td>\n",
       "      <td>682.16</td>\n",
       "      <td>Entertainment</td>\n",
       "      <td>Positive</td>\n",
       "      <td>77.9</td>\n",
       "      <td>High</td>\n",
       "      <td>210.99</td>\n",
       "      <td>0</td>\n",
       "    </tr>\n",
       "  </tbody>\n",
       "</table>\n",
       "</div>"
      ],
      "text/plain": [
       "         date  user_id  monthly_income  monthly_expense_total  savings_rate  \\\n",
       "0  2019-01-01     1584         3119.58                3212.07          0.38   \n",
       "1  2019-01-31     1045         3262.44                3732.81          0.10   \n",
       "2  2019-03-02     1756         2931.20                3335.58          0.15   \n",
       "3  2019-04-01     1724         3506.79                2327.59          0.17   \n",
       "4  2019-05-01     1600         4606.87                2182.58          0.34   \n",
       "5  2019-05-31     1985         4028.39                3876.57          0.26   \n",
       "6  2019-06-30     1194         4145.45                3035.61          0.15   \n",
       "7  2019-07-30     1600         3202.37                2689.51          0.25   \n",
       "8  2019-08-29     1835         4765.11                2628.56          0.06   \n",
       "9  2019-09-28     1454         3581.79                3370.80          0.13   \n",
       "\n",
       "   budget_goal financial_scenario  credit_score  debt_to_income_ratio  \\\n",
       "0      3676.11          inflation         721.0                  0.56   \n",
       "1      2607.17          inflation         670.0                  0.42   \n",
       "2      3004.14          inflation         691.0                  0.24   \n",
       "3      3346.97             normal         717.0                  0.16   \n",
       "4      2670.09          inflation         795.0                  0.25   \n",
       "5      2079.72          recession         643.0                  0.43   \n",
       "6      2215.80             normal         683.0                  0.30   \n",
       "7      3650.48             normal         655.0                  0.24   \n",
       "8      2813.81             normal         715.0                  0.52   \n",
       "9      2195.92             normal         749.0                  0.52   \n",
       "\n",
       "   loan_payment  investment_amount  subscription_services  emergency_fund  \\\n",
       "0        125.77             689.22                      3          510.58   \n",
       "1        454.19             360.34                      4         1154.41   \n",
       "2        971.82               0.00                      5         1433.02   \n",
       "3        482.76             182.06                      5          227.37   \n",
       "4        263.74             342.78                      9          589.81   \n",
       "5        323.20             451.11                      8         1131.03   \n",
       "6        609.88             730.42                      8          995.12   \n",
       "7        524.64             224.15                      4          732.71   \n",
       "8        103.30               0.00                      7         1623.05   \n",
       "9        643.48             261.39                      9         1057.10   \n",
       "\n",
       "   transaction_count  fraud_flag  discretionary_spending  essential_spending  \\\n",
       "0                 68           0                  857.55             1910.85   \n",
       "1                 41           0                  534.51             3165.20   \n",
       "2                 90           0                  353.67             1504.56   \n",
       "3                 94           0                  594.08             1450.72   \n",
       "4                 73           0                  556.86             1000.00   \n",
       "5                 56           0                  431.04             2330.01   \n",
       "6                 69           0                  443.50             2860.30   \n",
       "7                 65           0                  602.88             3526.55   \n",
       "8                 99           0                  733.67             2503.65   \n",
       "9                 91           0                  464.34             1691.26   \n",
       "\n",
       "  income_type  rent_or_mortgage        category cash_flow_status  \\\n",
       "0   Freelance           1501.65     Investments         Positive   \n",
       "1      Salary           1603.17     Investments         Positive   \n",
       "2   Freelance           1097.82      Healthcare         Positive   \n",
       "3   Freelance           1155.64       Groceries         Positive   \n",
       "4      Salary           1170.86       Utilities         Negative   \n",
       "5      Salary            548.67      Healthcare         Positive   \n",
       "6   Freelance            637.04  Transportation         Positive   \n",
       "7      Salary           1453.18   Entertainment          Neutral   \n",
       "8      Salary           1675.75       Education         Negative   \n",
       "9      Salary            682.16   Entertainment         Positive   \n",
       "\n",
       "   financial_advice_score financial_stress_level  actual_savings  \\\n",
       "0                     8.3                    Low            0.00   \n",
       "1                    22.6                    Low            0.00   \n",
       "2                    58.8                    Low            0.00   \n",
       "3                    74.5                    Low         1179.20   \n",
       "4                    38.7                   High         2424.29   \n",
       "5                    53.7                 Medium          151.82   \n",
       "6                    74.7                   High         1109.84   \n",
       "7                    83.1                 Medium          512.86   \n",
       "8                    71.6                    Low         2136.55   \n",
       "9                    77.9                   High          210.99   \n",
       "\n",
       "   savings_goal_met  \n",
       "0                 0  \n",
       "1                 0  \n",
       "2                 0  \n",
       "3                 0  \n",
       "4                 0  \n",
       "5                 0  \n",
       "6                 0  \n",
       "7                 0  \n",
       "8                 0  \n",
       "9                 0  "
      ]
     },
     "execution_count": 5,
     "metadata": {},
     "output_type": "execute_result"
    }
   ],
   "source": [
    "df.head(10)"
   ]
  },
  {
   "cell_type": "code",
   "execution_count": 6,
   "id": "cdfff35c",
   "metadata": {},
   "outputs": [
    {
     "data": {
      "text/plain": [
       "(3000, 25)"
      ]
     },
     "execution_count": 6,
     "metadata": {},
     "output_type": "execute_result"
    }
   ],
   "source": [
    "df.shape"
   ]
  },
  {
   "cell_type": "code",
   "execution_count": 7,
   "id": "b5c1009e",
   "metadata": {},
   "outputs": [
    {
     "name": "stdout",
     "output_type": "stream",
     "text": [
      "<class 'pandas.core.frame.DataFrame'>\n",
      "RangeIndex: 3000 entries, 0 to 2999\n",
      "Data columns (total 25 columns):\n",
      " #   Column                  Non-Null Count  Dtype  \n",
      "---  ------                  --------------  -----  \n",
      " 0   date                    3000 non-null   object \n",
      " 1   user_id                 3000 non-null   int64  \n",
      " 2   monthly_income          3000 non-null   float64\n",
      " 3   monthly_expense_total   3000 non-null   float64\n",
      " 4   savings_rate            3000 non-null   float64\n",
      " 5   budget_goal             3000 non-null   float64\n",
      " 6   financial_scenario      3000 non-null   object \n",
      " 7   credit_score            3000 non-null   float64\n",
      " 8   debt_to_income_ratio    3000 non-null   float64\n",
      " 9   loan_payment            3000 non-null   float64\n",
      " 10  investment_amount       3000 non-null   float64\n",
      " 11  subscription_services   3000 non-null   int64  \n",
      " 12  emergency_fund          3000 non-null   float64\n",
      " 13  transaction_count       3000 non-null   int64  \n",
      " 14  fraud_flag              3000 non-null   int64  \n",
      " 15  discretionary_spending  3000 non-null   float64\n",
      " 16  essential_spending      3000 non-null   float64\n",
      " 17  income_type             3000 non-null   object \n",
      " 18  rent_or_mortgage        3000 non-null   float64\n",
      " 19  category                3000 non-null   object \n",
      " 20  cash_flow_status        3000 non-null   object \n",
      " 21  financial_advice_score  3000 non-null   float64\n",
      " 22  financial_stress_level  3000 non-null   object \n",
      " 23  actual_savings          3000 non-null   float64\n",
      " 24  savings_goal_met        3000 non-null   int64  \n",
      "dtypes: float64(14), int64(5), object(6)\n",
      "memory usage: 586.1+ KB\n"
     ]
    }
   ],
   "source": [
    "df.info()"
   ]
  },
  {
   "cell_type": "markdown",
   "id": "568b98f2",
   "metadata": {},
   "source": [
    "While looking at the dataset its obvious that there are lot of columns that are not needed so let's delete them from the dataset"
   ]
  },
  {
   "cell_type": "code",
   "execution_count": 10,
   "id": "697c49f9",
   "metadata": {},
   "outputs": [],
   "source": [
    "# df.drop('date',axis=1,inplace=True)\n",
    "# df.drop('user_id',axis=1,inplace=True)\n",
    "# # df.drop('total',axis=1,inplace=True)\n",
    "# df.drop(['discretionary_spending','essential_spending','rent_or_mortgage','category'],axis=1,inplace=True)\n",
    "# df.drop(['budget_goal'],axis=1,inplace=True)"
   ]
  },
  {
   "cell_type": "code",
   "execution_count": 11,
   "id": "7c0eaf4d",
   "metadata": {},
   "outputs": [
    {
     "data": {
      "text/plain": [
       "fraud_flag\n",
       "0    2929\n",
       "1      71\n",
       "Name: count, dtype: int64"
      ]
     },
     "execution_count": 11,
     "metadata": {},
     "output_type": "execute_result"
    }
   ],
   "source": [
    "(df['fraud_flag']).value_counts()"
   ]
  },
  {
   "cell_type": "code",
   "execution_count": 12,
   "id": "6f2b15e4",
   "metadata": {},
   "outputs": [
    {
     "data": {
      "text/plain": [
       "financial_stress_level\n",
       "Low       1521\n",
       "Medium     886\n",
       "High       593\n",
       "Name: count, dtype: int64"
      ]
     },
     "execution_count": 12,
     "metadata": {},
     "output_type": "execute_result"
    }
   ],
   "source": [
    "(df['financial_stress_level']).value_counts()"
   ]
  },
  {
   "cell_type": "code",
   "execution_count": 13,
   "id": "756fa52f",
   "metadata": {},
   "outputs": [
    {
     "data": {
      "text/plain": [
       "income_type\n",
       "Salary       2154\n",
       "Freelance     529\n",
       "Mixed         317\n",
       "Name: count, dtype: int64"
      ]
     },
     "execution_count": 13,
     "metadata": {},
     "output_type": "execute_result"
    }
   ],
   "source": [
    "(df['income_type']).value_counts()"
   ]
  },
  {
   "cell_type": "code",
   "execution_count": 14,
   "id": "4894d4de",
   "metadata": {},
   "outputs": [
    {
     "data": {
      "text/plain": [
       "financial_scenario\n",
       "normal       1739\n",
       "inflation     648\n",
       "recession     613\n",
       "Name: count, dtype: int64"
      ]
     },
     "execution_count": 14,
     "metadata": {},
     "output_type": "execute_result"
    }
   ],
   "source": [
    "(df['financial_scenario']).value_counts()"
   ]
  },
  {
   "cell_type": "code",
   "execution_count": 15,
   "id": "ee0528ef",
   "metadata": {},
   "outputs": [
    {
     "data": {
      "text/plain": [
       "679.9236666666667"
      ]
     },
     "execution_count": 15,
     "metadata": {},
     "output_type": "execute_result"
    }
   ],
   "source": [
    "df['credit_score'].mean()"
   ]
  },
  {
   "cell_type": "code",
   "execution_count": 16,
   "id": "e1aad4d9",
   "metadata": {},
   "outputs": [
    {
     "data": {
      "text/html": [
       "<div>\n",
       "<style scoped>\n",
       "    .dataframe tbody tr th:only-of-type {\n",
       "        vertical-align: middle;\n",
       "    }\n",
       "\n",
       "    .dataframe tbody tr th {\n",
       "        vertical-align: top;\n",
       "    }\n",
       "\n",
       "    .dataframe thead th {\n",
       "        text-align: right;\n",
       "    }\n",
       "</style>\n",
       "<table border=\"1\" class=\"dataframe\">\n",
       "  <thead>\n",
       "    <tr style=\"text-align: right;\">\n",
       "      <th></th>\n",
       "      <th>monthly_income</th>\n",
       "      <th>monthly_expense_total</th>\n",
       "      <th>savings_rate</th>\n",
       "      <th>budget_goal</th>\n",
       "      <th>financial_scenario</th>\n",
       "      <th>credit_score</th>\n",
       "      <th>debt_to_income_ratio</th>\n",
       "      <th>loan_payment</th>\n",
       "      <th>investment_amount</th>\n",
       "      <th>subscription_services</th>\n",
       "      <th>emergency_fund</th>\n",
       "      <th>transaction_count</th>\n",
       "      <th>fraud_flag</th>\n",
       "      <th>discretionary_spending</th>\n",
       "      <th>essential_spending</th>\n",
       "      <th>income_type</th>\n",
       "      <th>rent_or_mortgage</th>\n",
       "      <th>category</th>\n",
       "      <th>cash_flow_status</th>\n",
       "      <th>financial_advice_score</th>\n",
       "      <th>financial_stress_level</th>\n",
       "      <th>actual_savings</th>\n",
       "      <th>savings_goal_met</th>\n",
       "    </tr>\n",
       "  </thead>\n",
       "  <tbody>\n",
       "    <tr>\n",
       "      <th>0</th>\n",
       "      <td>3119.58</td>\n",
       "      <td>3212.07</td>\n",
       "      <td>0.38</td>\n",
       "      <td>3676.11</td>\n",
       "      <td>inflation</td>\n",
       "      <td>721.0</td>\n",
       "      <td>0.56</td>\n",
       "      <td>125.77</td>\n",
       "      <td>689.22</td>\n",
       "      <td>3</td>\n",
       "      <td>510.58</td>\n",
       "      <td>68</td>\n",
       "      <td>0</td>\n",
       "      <td>857.55</td>\n",
       "      <td>1910.85</td>\n",
       "      <td>Freelance</td>\n",
       "      <td>1501.65</td>\n",
       "      <td>Investments</td>\n",
       "      <td>Positive</td>\n",
       "      <td>8.3</td>\n",
       "      <td>Low</td>\n",
       "      <td>0.00</td>\n",
       "      <td>0</td>\n",
       "    </tr>\n",
       "    <tr>\n",
       "      <th>1</th>\n",
       "      <td>3262.44</td>\n",
       "      <td>3732.81</td>\n",
       "      <td>0.10</td>\n",
       "      <td>2607.17</td>\n",
       "      <td>inflation</td>\n",
       "      <td>670.0</td>\n",
       "      <td>0.42</td>\n",
       "      <td>454.19</td>\n",
       "      <td>360.34</td>\n",
       "      <td>4</td>\n",
       "      <td>1154.41</td>\n",
       "      <td>41</td>\n",
       "      <td>0</td>\n",
       "      <td>534.51</td>\n",
       "      <td>3165.20</td>\n",
       "      <td>Salary</td>\n",
       "      <td>1603.17</td>\n",
       "      <td>Investments</td>\n",
       "      <td>Positive</td>\n",
       "      <td>22.6</td>\n",
       "      <td>Low</td>\n",
       "      <td>0.00</td>\n",
       "      <td>0</td>\n",
       "    </tr>\n",
       "    <tr>\n",
       "      <th>2</th>\n",
       "      <td>2931.20</td>\n",
       "      <td>3335.58</td>\n",
       "      <td>0.15</td>\n",
       "      <td>3004.14</td>\n",
       "      <td>inflation</td>\n",
       "      <td>691.0</td>\n",
       "      <td>0.24</td>\n",
       "      <td>971.82</td>\n",
       "      <td>0.00</td>\n",
       "      <td>5</td>\n",
       "      <td>1433.02</td>\n",
       "      <td>90</td>\n",
       "      <td>0</td>\n",
       "      <td>353.67</td>\n",
       "      <td>1504.56</td>\n",
       "      <td>Freelance</td>\n",
       "      <td>1097.82</td>\n",
       "      <td>Healthcare</td>\n",
       "      <td>Positive</td>\n",
       "      <td>58.8</td>\n",
       "      <td>Low</td>\n",
       "      <td>0.00</td>\n",
       "      <td>0</td>\n",
       "    </tr>\n",
       "    <tr>\n",
       "      <th>3</th>\n",
       "      <td>3506.79</td>\n",
       "      <td>2327.59</td>\n",
       "      <td>0.17</td>\n",
       "      <td>3346.97</td>\n",
       "      <td>normal</td>\n",
       "      <td>717.0</td>\n",
       "      <td>0.16</td>\n",
       "      <td>482.76</td>\n",
       "      <td>182.06</td>\n",
       "      <td>5</td>\n",
       "      <td>227.37</td>\n",
       "      <td>94</td>\n",
       "      <td>0</td>\n",
       "      <td>594.08</td>\n",
       "      <td>1450.72</td>\n",
       "      <td>Freelance</td>\n",
       "      <td>1155.64</td>\n",
       "      <td>Groceries</td>\n",
       "      <td>Positive</td>\n",
       "      <td>74.5</td>\n",
       "      <td>Low</td>\n",
       "      <td>1179.20</td>\n",
       "      <td>0</td>\n",
       "    </tr>\n",
       "    <tr>\n",
       "      <th>4</th>\n",
       "      <td>4606.87</td>\n",
       "      <td>2182.58</td>\n",
       "      <td>0.34</td>\n",
       "      <td>2670.09</td>\n",
       "      <td>inflation</td>\n",
       "      <td>795.0</td>\n",
       "      <td>0.25</td>\n",
       "      <td>263.74</td>\n",
       "      <td>342.78</td>\n",
       "      <td>9</td>\n",
       "      <td>589.81</td>\n",
       "      <td>73</td>\n",
       "      <td>0</td>\n",
       "      <td>556.86</td>\n",
       "      <td>1000.00</td>\n",
       "      <td>Salary</td>\n",
       "      <td>1170.86</td>\n",
       "      <td>Utilities</td>\n",
       "      <td>Negative</td>\n",
       "      <td>38.7</td>\n",
       "      <td>High</td>\n",
       "      <td>2424.29</td>\n",
       "      <td>0</td>\n",
       "    </tr>\n",
       "    <tr>\n",
       "      <th>5</th>\n",
       "      <td>4028.39</td>\n",
       "      <td>3876.57</td>\n",
       "      <td>0.26</td>\n",
       "      <td>2079.72</td>\n",
       "      <td>recession</td>\n",
       "      <td>643.0</td>\n",
       "      <td>0.43</td>\n",
       "      <td>323.20</td>\n",
       "      <td>451.11</td>\n",
       "      <td>8</td>\n",
       "      <td>1131.03</td>\n",
       "      <td>56</td>\n",
       "      <td>0</td>\n",
       "      <td>431.04</td>\n",
       "      <td>2330.01</td>\n",
       "      <td>Salary</td>\n",
       "      <td>548.67</td>\n",
       "      <td>Healthcare</td>\n",
       "      <td>Positive</td>\n",
       "      <td>53.7</td>\n",
       "      <td>Medium</td>\n",
       "      <td>151.82</td>\n",
       "      <td>0</td>\n",
       "    </tr>\n",
       "    <tr>\n",
       "      <th>6</th>\n",
       "      <td>4145.45</td>\n",
       "      <td>3035.61</td>\n",
       "      <td>0.15</td>\n",
       "      <td>2215.80</td>\n",
       "      <td>normal</td>\n",
       "      <td>683.0</td>\n",
       "      <td>0.30</td>\n",
       "      <td>609.88</td>\n",
       "      <td>730.42</td>\n",
       "      <td>8</td>\n",
       "      <td>995.12</td>\n",
       "      <td>69</td>\n",
       "      <td>0</td>\n",
       "      <td>443.50</td>\n",
       "      <td>2860.30</td>\n",
       "      <td>Freelance</td>\n",
       "      <td>637.04</td>\n",
       "      <td>Transportation</td>\n",
       "      <td>Positive</td>\n",
       "      <td>74.7</td>\n",
       "      <td>High</td>\n",
       "      <td>1109.84</td>\n",
       "      <td>0</td>\n",
       "    </tr>\n",
       "    <tr>\n",
       "      <th>7</th>\n",
       "      <td>3202.37</td>\n",
       "      <td>2689.51</td>\n",
       "      <td>0.25</td>\n",
       "      <td>3650.48</td>\n",
       "      <td>normal</td>\n",
       "      <td>655.0</td>\n",
       "      <td>0.24</td>\n",
       "      <td>524.64</td>\n",
       "      <td>224.15</td>\n",
       "      <td>4</td>\n",
       "      <td>732.71</td>\n",
       "      <td>65</td>\n",
       "      <td>0</td>\n",
       "      <td>602.88</td>\n",
       "      <td>3526.55</td>\n",
       "      <td>Salary</td>\n",
       "      <td>1453.18</td>\n",
       "      <td>Entertainment</td>\n",
       "      <td>Neutral</td>\n",
       "      <td>83.1</td>\n",
       "      <td>Medium</td>\n",
       "      <td>512.86</td>\n",
       "      <td>0</td>\n",
       "    </tr>\n",
       "    <tr>\n",
       "      <th>8</th>\n",
       "      <td>4765.11</td>\n",
       "      <td>2628.56</td>\n",
       "      <td>0.06</td>\n",
       "      <td>2813.81</td>\n",
       "      <td>normal</td>\n",
       "      <td>715.0</td>\n",
       "      <td>0.52</td>\n",
       "      <td>103.30</td>\n",
       "      <td>0.00</td>\n",
       "      <td>7</td>\n",
       "      <td>1623.05</td>\n",
       "      <td>99</td>\n",
       "      <td>0</td>\n",
       "      <td>733.67</td>\n",
       "      <td>2503.65</td>\n",
       "      <td>Salary</td>\n",
       "      <td>1675.75</td>\n",
       "      <td>Education</td>\n",
       "      <td>Negative</td>\n",
       "      <td>71.6</td>\n",
       "      <td>Low</td>\n",
       "      <td>2136.55</td>\n",
       "      <td>0</td>\n",
       "    </tr>\n",
       "    <tr>\n",
       "      <th>9</th>\n",
       "      <td>3581.79</td>\n",
       "      <td>3370.80</td>\n",
       "      <td>0.13</td>\n",
       "      <td>2195.92</td>\n",
       "      <td>normal</td>\n",
       "      <td>749.0</td>\n",
       "      <td>0.52</td>\n",
       "      <td>643.48</td>\n",
       "      <td>261.39</td>\n",
       "      <td>9</td>\n",
       "      <td>1057.10</td>\n",
       "      <td>91</td>\n",
       "      <td>0</td>\n",
       "      <td>464.34</td>\n",
       "      <td>1691.26</td>\n",
       "      <td>Salary</td>\n",
       "      <td>682.16</td>\n",
       "      <td>Entertainment</td>\n",
       "      <td>Positive</td>\n",
       "      <td>77.9</td>\n",
       "      <td>High</td>\n",
       "      <td>210.99</td>\n",
       "      <td>0</td>\n",
       "    </tr>\n",
       "  </tbody>\n",
       "</table>\n",
       "</div>"
      ],
      "text/plain": [
       "   monthly_income  monthly_expense_total  savings_rate  budget_goal  \\\n",
       "0         3119.58                3212.07          0.38      3676.11   \n",
       "1         3262.44                3732.81          0.10      2607.17   \n",
       "2         2931.20                3335.58          0.15      3004.14   \n",
       "3         3506.79                2327.59          0.17      3346.97   \n",
       "4         4606.87                2182.58          0.34      2670.09   \n",
       "5         4028.39                3876.57          0.26      2079.72   \n",
       "6         4145.45                3035.61          0.15      2215.80   \n",
       "7         3202.37                2689.51          0.25      3650.48   \n",
       "8         4765.11                2628.56          0.06      2813.81   \n",
       "9         3581.79                3370.80          0.13      2195.92   \n",
       "\n",
       "  financial_scenario  credit_score  debt_to_income_ratio  loan_payment  \\\n",
       "0          inflation         721.0                  0.56        125.77   \n",
       "1          inflation         670.0                  0.42        454.19   \n",
       "2          inflation         691.0                  0.24        971.82   \n",
       "3             normal         717.0                  0.16        482.76   \n",
       "4          inflation         795.0                  0.25        263.74   \n",
       "5          recession         643.0                  0.43        323.20   \n",
       "6             normal         683.0                  0.30        609.88   \n",
       "7             normal         655.0                  0.24        524.64   \n",
       "8             normal         715.0                  0.52        103.30   \n",
       "9             normal         749.0                  0.52        643.48   \n",
       "\n",
       "   investment_amount  subscription_services  emergency_fund  \\\n",
       "0             689.22                      3          510.58   \n",
       "1             360.34                      4         1154.41   \n",
       "2               0.00                      5         1433.02   \n",
       "3             182.06                      5          227.37   \n",
       "4             342.78                      9          589.81   \n",
       "5             451.11                      8         1131.03   \n",
       "6             730.42                      8          995.12   \n",
       "7             224.15                      4          732.71   \n",
       "8               0.00                      7         1623.05   \n",
       "9             261.39                      9         1057.10   \n",
       "\n",
       "   transaction_count  fraud_flag  discretionary_spending  essential_spending  \\\n",
       "0                 68           0                  857.55             1910.85   \n",
       "1                 41           0                  534.51             3165.20   \n",
       "2                 90           0                  353.67             1504.56   \n",
       "3                 94           0                  594.08             1450.72   \n",
       "4                 73           0                  556.86             1000.00   \n",
       "5                 56           0                  431.04             2330.01   \n",
       "6                 69           0                  443.50             2860.30   \n",
       "7                 65           0                  602.88             3526.55   \n",
       "8                 99           0                  733.67             2503.65   \n",
       "9                 91           0                  464.34             1691.26   \n",
       "\n",
       "  income_type  rent_or_mortgage        category cash_flow_status  \\\n",
       "0   Freelance           1501.65     Investments         Positive   \n",
       "1      Salary           1603.17     Investments         Positive   \n",
       "2   Freelance           1097.82      Healthcare         Positive   \n",
       "3   Freelance           1155.64       Groceries         Positive   \n",
       "4      Salary           1170.86       Utilities         Negative   \n",
       "5      Salary            548.67      Healthcare         Positive   \n",
       "6   Freelance            637.04  Transportation         Positive   \n",
       "7      Salary           1453.18   Entertainment          Neutral   \n",
       "8      Salary           1675.75       Education         Negative   \n",
       "9      Salary            682.16   Entertainment         Positive   \n",
       "\n",
       "   financial_advice_score financial_stress_level  actual_savings  \\\n",
       "0                     8.3                    Low            0.00   \n",
       "1                    22.6                    Low            0.00   \n",
       "2                    58.8                    Low            0.00   \n",
       "3                    74.5                    Low         1179.20   \n",
       "4                    38.7                   High         2424.29   \n",
       "5                    53.7                 Medium          151.82   \n",
       "6                    74.7                   High         1109.84   \n",
       "7                    83.1                 Medium          512.86   \n",
       "8                    71.6                    Low         2136.55   \n",
       "9                    77.9                   High          210.99   \n",
       "\n",
       "   savings_goal_met  \n",
       "0                 0  \n",
       "1                 0  \n",
       "2                 0  \n",
       "3                 0  \n",
       "4                 0  \n",
       "5                 0  \n",
       "6                 0  \n",
       "7                 0  \n",
       "8                 0  \n",
       "9                 0  "
      ]
     },
     "execution_count": 16,
     "metadata": {},
     "output_type": "execute_result"
    }
   ],
   "source": [
    "df.head(10)"
   ]
  },
  {
   "cell_type": "code",
   "execution_count": 17,
   "id": "d77a5c2d",
   "metadata": {},
   "outputs": [],
   "source": [
    "df['total']=df['discretionary_spending']+df['essential_spending']+df['rent_or_mortgage']"
   ]
  },
  {
   "cell_type": "code",
   "execution_count": 18,
   "id": "c07e6e7a",
   "metadata": {},
   "outputs": [
    {
     "data": {
      "text/plain": [
       "savings_goal_met\n",
       "0    2723\n",
       "1     277\n",
       "Name: count, dtype: int64"
      ]
     },
     "execution_count": 18,
     "metadata": {},
     "output_type": "execute_result"
    }
   ],
   "source": [
    "(df['savings_goal_met']).value_counts()"
   ]
  },
  {
   "cell_type": "code",
   "execution_count": null,
   "id": "5c93c9cc",
   "metadata": {},
   "outputs": [
    {
     "data": {
      "text/plain": [
       "(3000, 18)"
      ]
     },
     "execution_count": 41,
     "metadata": {},
     "output_type": "execute_result"
    }
   ],
   "source": [
    "df.shape"
   ]
  },
  {
   "cell_type": "code",
   "execution_count": 19,
   "id": "891b5eae",
   "metadata": {},
   "outputs": [],
   "source": [
    "df.to_csv('../data/cleaned_data.csv')"
   ]
  },
  {
   "cell_type": "code",
   "execution_count": 20,
   "id": "e3ff2b2c",
   "metadata": {},
   "outputs": [
    {
     "data": {
      "text/plain": [
       "685.28"
      ]
     },
     "execution_count": 20,
     "metadata": {},
     "output_type": "execute_result"
    }
   ],
   "source": [
    "(df['monthly_income']).min()"
   ]
  },
  {
   "cell_type": "code",
   "execution_count": 21,
   "id": "fdc1ae55",
   "metadata": {},
   "outputs": [
    {
     "data": {
      "text/plain": [
       "7407.94"
      ]
     },
     "execution_count": 21,
     "metadata": {},
     "output_type": "execute_result"
    }
   ],
   "source": [
    "(df['monthly_income']).max()"
   ]
  },
  {
   "cell_type": "code",
   "execution_count": 24,
   "id": "6acabd1f",
   "metadata": {},
   "outputs": [
    {
     "data": {
      "text/plain": [
       "159.21"
      ]
     },
     "execution_count": 24,
     "metadata": {},
     "output_type": "execute_result"
    }
   ],
   "source": [
    "(df['monthly_expense_total']).min()"
   ]
  },
  {
   "cell_type": "code",
   "execution_count": 25,
   "id": "a4b1bd94",
   "metadata": {},
   "outputs": [
    {
     "data": {
      "text/plain": [
       "5853.2"
      ]
     },
     "execution_count": 25,
     "metadata": {},
     "output_type": "execute_result"
    }
   ],
   "source": [
    "(df['monthly_expense_total']).max()"
   ]
  },
  {
   "cell_type": "code",
   "execution_count": 26,
   "id": "69bb0a1d",
   "metadata": {},
   "outputs": [
    {
     "data": {
      "text/plain": [
       "0.05"
      ]
     },
     "execution_count": 26,
     "metadata": {},
     "output_type": "execute_result"
    }
   ],
   "source": [
    "(df['savings_rate']).min()"
   ]
  },
  {
   "cell_type": "code",
   "execution_count": 27,
   "id": "cafbce0f",
   "metadata": {},
   "outputs": [
    {
     "data": {
      "text/plain": [
       "0.4"
      ]
     },
     "execution_count": 27,
     "metadata": {},
     "output_type": "execute_result"
    }
   ],
   "source": [
    "(df['savings_rate']).max()"
   ]
  },
  {
   "cell_type": "code",
   "execution_count": 28,
   "id": "8d84c496",
   "metadata": {},
   "outputs": [
    {
     "data": {
      "text/plain": [
       "515.0"
      ]
     },
     "execution_count": 28,
     "metadata": {},
     "output_type": "execute_result"
    }
   ],
   "source": [
    "(df['credit_score']).min()"
   ]
  },
  {
   "cell_type": "code",
   "execution_count": 29,
   "id": "06d337e9",
   "metadata": {},
   "outputs": [
    {
     "data": {
      "text/plain": [
       "847.0"
      ]
     },
     "execution_count": 29,
     "metadata": {},
     "output_type": "execute_result"
    }
   ],
   "source": [
    "(df['credit_score']).max()"
   ]
  },
  {
   "cell_type": "code",
   "execution_count": 30,
   "id": "25b53124",
   "metadata": {},
   "outputs": [
    {
     "data": {
      "text/plain": [
       "0.1"
      ]
     },
     "execution_count": 30,
     "metadata": {},
     "output_type": "execute_result"
    }
   ],
   "source": [
    "(df['debt_to_income_ratio']).min()"
   ]
  },
  {
   "cell_type": "code",
   "execution_count": 31,
   "id": "6684bef5",
   "metadata": {},
   "outputs": [
    {
     "data": {
      "text/plain": [
       "0.6"
      ]
     },
     "execution_count": 31,
     "metadata": {},
     "output_type": "execute_result"
    }
   ],
   "source": [
    "(df['debt_to_income_ratio']).max()"
   ]
  },
  {
   "cell_type": "code",
   "execution_count": 32,
   "id": "bf536f06",
   "metadata": {},
   "outputs": [
    {
     "data": {
      "text/plain": [
       "0.1"
      ]
     },
     "execution_count": 32,
     "metadata": {},
     "output_type": "execute_result"
    }
   ],
   "source": [
    "(df['financial_advice_score']).min()"
   ]
  },
  {
   "cell_type": "code",
   "execution_count": 33,
   "id": "09075f18",
   "metadata": {},
   "outputs": [
    {
     "data": {
      "text/plain": [
       "100.0"
      ]
     },
     "execution_count": 33,
     "metadata": {},
     "output_type": "execute_result"
    }
   ],
   "source": [
    "(df['financial_advice_score']).max()"
   ]
  },
  {
   "cell_type": "code",
   "execution_count": null,
   "id": "5f1ea372",
   "metadata": {},
   "outputs": [],
   "source": []
  }
 ],
 "metadata": {
  "kernelspec": {
   "display_name": "base",
   "language": "python",
   "name": "python3"
  },
  "language_info": {
   "codemirror_mode": {
    "name": "ipython",
    "version": 3
   },
   "file_extension": ".py",
   "mimetype": "text/x-python",
   "name": "python",
   "nbconvert_exporter": "python",
   "pygments_lexer": "ipython3",
   "version": "3.12.7"
  }
 },
 "nbformat": 4,
 "nbformat_minor": 5
}
