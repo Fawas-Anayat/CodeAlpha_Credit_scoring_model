{
 "cells": [
  {
   "cell_type": "markdown",
   "id": "c2012fc9",
   "metadata": {},
   "source": [
    "# CREDIT SCORING MODEL"
   ]
  },
  {
   "cell_type": "markdown",
   "id": "fbc57ea4",
   "metadata": {},
   "source": [
    "This is the project build on the basis of machine learning that predicts the creditworthiness of a person on the basis of the its past financial data like credit and debit records etc"
   ]
  },
  {
   "cell_type": "markdown",
   "id": "3a083341",
   "metadata": {},
   "source": [
    "### importing libraries and modules"
   ]
  },
  {
   "cell_type": "code",
   "execution_count": 1,
   "id": "ce06fbe6",
   "metadata": {},
   "outputs": [],
   "source": [
    "import numpy as np"
   ]
  },
  {
   "cell_type": "markdown",
   "id": "a3c10ace",
   "metadata": {},
   "source": []
  }
 ],
 "metadata": {
  "kernelspec": {
   "display_name": "base",
   "language": "python",
   "name": "python3"
  },
  "language_info": {
   "codemirror_mode": {
    "name": "ipython",
    "version": 3
   },
   "file_extension": ".py",
   "mimetype": "text/x-python",
   "name": "python",
   "nbconvert_exporter": "python",
   "pygments_lexer": "ipython3",
   "version": "3.12.7"
  }
 },
 "nbformat": 4,
 "nbformat_minor": 5
}
